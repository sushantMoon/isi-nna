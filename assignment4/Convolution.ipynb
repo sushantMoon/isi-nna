{
 "cells": [
  {
   "cell_type": "code",
   "execution_count": 12,
   "metadata": {},
   "outputs": [
    {
     "name": "stdout",
     "output_type": "stream",
     "text": [
      "/mnt/Alice/ISI/SEM3/NNA/Assignments/assignment4\n"
     ]
    }
   ],
   "source": [
    "import numpy as np\n",
    "import sys\n",
    "import os\n",
    "print(os.getcwd())\n",
    "\n",
    "\n",
    "def conv_(img, conv_filter):\n",
    "    filter_size = conv_filter.shape\n",
    "    result = []\n",
    "    padding_size = filter_size[0]//2\n",
    "    padded_img = np.pad(img, (padding_size, padding_size), 'constant', constant_values=(0,0))\n",
    "    for r in range(padded_img.shape[0]-int(np.ceil(filter_size[0]/2))):\n",
    "        row = []\n",
    "        for c in range(padded_img.shape[1]-int(np.ceil(filter_size[0]/2))):\n",
    "            \n",
    "            curr_region = padded_img[0+r:r+filter_size[0]:1,0+c:c+filter_size[0]:1]\n",
    "            #print(\"region : \", curr_region)\n",
    "            curr_result = curr_region * conv_filter\n",
    "            conv_sum = np.sum(curr_result)\n",
    "            row.append(conv_sum)\n",
    "        \n",
    "        result.append(np.array(row))\n",
    "    final_result = np.array(result)\n",
    "    return final_result\n",
    "\n",
    "def convolve(img, conv_filter):\n",
    "    if len(img.shape) != 2 and len(conv_filter.shape) != 2:\n",
    "        print(\"Error: Image and Convolutional Filter should be greyscale or 2D matrix\")\n",
    "        sys.exit()\n",
    "    if (conv_filter.shape[0] != conv_filter.shape[1]) and (conv_filter.shape[1]%2==0):\n",
    "        print('Error: Filter must be a square matrix and of odd size.')\n",
    "        sys.exit()\n",
    "    feature_map = conv_(img, conv_filter)\n",
    "    return feature_map"
   ]
  },
  {
   "cell_type": "markdown",
   "metadata": {},
   "source": [
    "# Question 1: Convolutional operation is invariant under translation and shifting\n",
    "\n",
    "## Answer \n",
    "\n",
    "In colvolutional operation, a filter of size smaller (in general cases) is applied on top on the image, now the convolutional operation will give the same output on a specific set of pixels value, hence when the object in the image is shifted or moved to some other position (x,y) in the image the values of the pixels in the area of that object remains same hence the convolutional operation gives the same output hence it is said to be translation and shifting invariant operation.\n",
    "\n",
    "Given an image I of lets say dimensions N×N and a kernel K of lets say M×M, then the convolution of the image with the kernel at position is given by  Cij=∑p,qIi−p,j−qKp,q. Now lets translate the image lets say k positions down and l positions right. What happens? All the pixels that were at position (i,j) now move to (i+k,h+j). Now lets recompute convolution at this new position. Its Ci′,j′=∑p,qIi+k−p,j+l−qKp,q. Now compare this with the notation above. We get i′=i+k and j′=j+l. Hence the convolution for the image at the position (i,j) also shifts by (k,l) units. "
   ]
  },
  {
   "cell_type": "markdown",
   "metadata": {},
   "source": [
    "# Question 2: Convolutional operation is not invariant under rotation and scaling\n",
    "\n",
    "## Answer \n",
    "\n",
    "In colvolutional operation, a filter of size smaller (in general cases) is applied on top on the image, now the convolutional operation will give the same output on a specific set of pixels value.\n",
    "\n",
    "Now when the object in question is rotated or scaled the actual pixel values of that object change, and convolution operation being applied in the pixel values, the output of the operation differs, hence the convolutional operation is not invariant for rotation and scaling."
   ]
  },
  {
   "cell_type": "code",
   "execution_count": null,
   "metadata": {},
   "outputs": [],
   "source": []
  },
  {
   "cell_type": "code",
   "execution_count": null,
   "metadata": {},
   "outputs": [],
   "source": []
  },
  {
   "cell_type": "code",
   "execution_count": 13,
   "metadata": {},
   "outputs": [],
   "source": [
    "# input_img = np.array(\n",
    "#     [\n",
    "#         np.array([1,2,3,4]),\n",
    "#         np.array([6,7,8,9]),\n",
    "#         np.array([11,12,13,14]),\n",
    "#         np.array([16,17,18,20]),\n",
    "#         np.array([21,22,24,25])\n",
    "#     ]\n",
    "# )\n",
    "\n",
    "input_img = np.array(\n",
    "    [\n",
    "        np.array([1,0,1,0,1]),\n",
    "        np.array([1,0,1,0,1]),\n",
    "        np.array([1,0,1,0,1]),\n",
    "        np.array([1,0,1,0,1]),\n",
    "        np.array([1,0,1,0,1])\n",
    "    ]\n",
    ")\n",
    "\n",
    "\n",
    "input_img_five = np.array(\n",
    "    [\n",
    "        np.array([1,1,1,1,1]),\n",
    "        np.array([1,0,0,0,0]),\n",
    "        np.array([1,1,1,1,1]),\n",
    "        np.array([0,0,0,0,1]),\n",
    "        np.array([1,1,1,1,1])\n",
    "    ]\n",
    ")\n",
    "\n",
    "conv_filter_blur = np.array(\n",
    "    [\n",
    "        np.array([0,1,0]),\n",
    "        np.array([1,4,1]),\n",
    "        np.array([0,1,0])\n",
    "    ]\n",
    ")\n",
    "\n",
    "\n",
    "conv_filter_sharp = np.array(\n",
    "    [\n",
    "        np.array([0,-1,0]),\n",
    "        np.array([-1,8,-1]),\n",
    "        np.array([0,-1,0])\n",
    "    ]\n",
    ")\n",
    "\n",
    "conv_filter_edges = np.array(\n",
    "    [\n",
    "        np.array([0,-1,0]),\n",
    "        np.array([-1,4,-1]),\n",
    "        np.array([0,-1,0])\n",
    "    ]\n",
    ")\n",
    "\n"
   ]
  },
  {
   "cell_type": "code",
   "execution_count": 14,
   "metadata": {},
   "outputs": [
    {
     "name": "stdout",
     "output_type": "stream",
     "text": [
      "[[5 2 5 2 5]\n",
      " [6 2 6 2 6]\n",
      " [6 2 6 2 6]\n",
      " [6 2 6 2 6]\n",
      " [5 2 5 2 5]]\n"
     ]
    }
   ],
   "source": [
    "print(convolve(input_img, conv_filter_blur))"
   ]
  },
  {
   "cell_type": "code",
   "execution_count": 15,
   "metadata": {},
   "outputs": [
    {
     "name": "stdout",
     "output_type": "stream",
     "text": [
      "[[ 7 -2  7 -2  7]\n",
      " [ 6 -2  6 -2  6]\n",
      " [ 6 -2  6 -2  6]\n",
      " [ 6 -2  6 -2  6]\n",
      " [ 7 -2  7 -2  7]]\n"
     ]
    }
   ],
   "source": [
    "print(convolve(input_img, conv_filter_sharp))"
   ]
  },
  {
   "cell_type": "code",
   "execution_count": 16,
   "metadata": {},
   "outputs": [
    {
     "name": "stdout",
     "output_type": "stream",
     "text": [
      "[[ 3 -2  3 -2  3]\n",
      " [ 2 -2  2 -2  2]\n",
      " [ 2 -2  2 -2  2]\n",
      " [ 2 -2  2 -2  2]\n",
      " [ 3 -2  3 -2  3]]\n"
     ]
    }
   ],
   "source": [
    "print(convolve(input_img, conv_filter_edges))"
   ]
  },
  {
   "cell_type": "code",
   "execution_count": 17,
   "metadata": {},
   "outputs": [
    {
     "name": "stdout",
     "output_type": "stream",
     "text": [
      "[[ 2  2  2  2  3]\n",
      " [ 2 -3 -2 -2 -2]\n",
      " [ 2  2  2  2  2]\n",
      " [-2 -2 -2 -3  2]\n",
      " [ 3  2  2  2  2]]\n"
     ]
    }
   ],
   "source": [
    "print(convolve(input_img_five, conv_filter_edges))"
   ]
  },
  {
   "cell_type": "code",
   "execution_count": 18,
   "metadata": {},
   "outputs": [
    {
     "name": "stdout",
     "output_type": "stream",
     "text": [
      "[0. 1.]\n"
     ]
    },
    {
     "data": {
      "text/plain": [
       "<matplotlib.image.AxesImage at 0x7ff9a4451cf8>"
      ]
     },
     "execution_count": 18,
     "metadata": {},
     "output_type": "execute_result"
    },
    {
     "data": {
      "image/png": "[encoded data removed]",
      "text/plain": [
       "<Figure size 432x288 with 1 Axes>"
      ]
     },
     "metadata": {
      "needs_background": "light"
     },
     "output_type": "display_data"
    }
   ],
   "source": [
    "import numpy as np\n",
    "import matplotlib.pyplot as plt\n",
    "import matplotlib.image as mpimg\n",
    "\n",
    "def rgb2gray(rgb):\n",
    "    return np.dot(rgb[...,:3], [0.2989, 0.5870, 0.1140])\n",
    "\n",
    "img = mpimg.imread('/mnt/Alice/ISI/SEM3/NNA/Assignments/assignment4/5.png')     \n",
    "gray = rgb2gray(img)\n",
    "gray = np.around(gray)\n",
    "print(np.unique(gray))\n",
    "plt.imshow(gray)"
   ]
  },
  {
   "cell_type": "code",
   "execution_count": 19,
   "metadata": {},
   "outputs": [
    {
     "data": {
      "text/plain": [
       "<matplotlib.image.AxesImage at 0x7ff9a4a789b0>"
      ]
     },
     "execution_count": 19,
     "metadata": {},
     "output_type": "execute_result"
    },
    {
     "data": {
      "image/png": "[encoded data removed]",
      "text/plain": [
       "<Figure size 432x288 with 1 Axes>"
      ]
     },
     "metadata": {
      "needs_background": "light"
     },
     "output_type": "display_data"
    }
   ],
   "source": [
    "c_e = convolve(gray, conv_filter_edges)\n",
    "plt.imshow(c_e)"
   ]
  },
  {
   "cell_type": "code",
   "execution_count": 20,
   "metadata": {},
   "outputs": [
    {
     "data": {
      "text/plain": [
       "<matplotlib.image.AxesImage at 0x7ff9a44022b0>"
      ]
     },
     "execution_count": 20,
     "metadata": {},
     "output_type": "execute_result"
    },
    {
     "data": {
      "image/png": "[encoded data removed]",
      "text/plain": [
       "<Figure size 432x288 with 1 Axes>"
      ]
     },
     "metadata": {
      "needs_background": "light"
     },
     "output_type": "display_data"
    }
   ],
   "source": [
    "c_b = convolve(gray, conv_filter_blur)\n",
    "for _ in range(15):\n",
    "    c_b = convolve(c_b, conv_filter_blur)\n",
    "plt.imshow(c_b)"
   ]
  },
  {
   "cell_type": "code",
   "execution_count": 21,
   "metadata": {},
   "outputs": [
    {
     "data": {
      "text/plain": [
       "<matplotlib.image.AxesImage at 0x7ff9a43d76a0>"
      ]
     },
     "execution_count": 21,
     "metadata": {},
     "output_type": "execute_result"
    },
    {
     "data": {
      "image/png": "[encoded data removed]",
      "text/plain": [
       "<Figure size 432x288 with 1 Axes>"
      ]
     },
     "metadata": {
      "needs_background": "light"
     },
     "output_type": "display_data"
    }
   ],
   "source": [
    "c_s = convolve(gray, conv_filter_sharp)\n",
    "# for _ in range(1):\n",
    "#     c_s = convolve(c_s, conv_filter_sharp)\n",
    "plt.imshow(c_s)"
   ]
  },
  {
   "cell_type": "code",
   "execution_count": null,
   "metadata": {},
   "outputs": [],
   "source": []
  },
  {
   "cell_type": "code",
   "execution_count": null,
   "metadata": {},
   "outputs": [],
   "source": []
  }
 ],
 "metadata": {
  "kernelspec": {
   "display_name": "Python 3",
   "language": "python",
   "name": "python3"
  },
  "language_info": {
   "codemirror_mode": {
    "name": "ipython",
    "version": 3
   },
   "file_extension": ".py",
   "mimetype": "text/x-python",
   "name": "python",
   "nbconvert_exporter": "python",
   "pygments_lexer": "ipython3",
   "version": "3.7.3"
  }
 },
 "nbformat": 4,
 "nbformat_minor": 4
}
