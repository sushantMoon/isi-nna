{
 "cells": [
  {
   "cell_type": "markdown",
   "metadata": {},
   "source": [
    "# Principal Component Analysis Network"
   ]
  },
  {
   "cell_type": "code",
   "execution_count": 12,
   "metadata": {},
   "outputs": [
    {
     "name": "stdout",
     "output_type": "stream",
     "text": [
      "[0.7652971254666974, 0.5922312081416641, 0.10375246873784545, 0.22982152006780684]\n",
      "0.9999999999999998\n",
      "[0.6240442585408016, 0.5017830025523634, 0.5887638935408368, 0.11018012250143103]\n",
      "1.0000000000000002\n"
     ]
    }
   ],
   "source": [
    "# import numpy as np\n",
    "# import random\n",
    "# from operator import sub, add\n",
    "# from itertools import permutations \n",
    "\n",
    "\n",
    "# l=100\n",
    "# samples = np.random.multivariate_normal([0,0,0,0], [[100, 141.4, 173.2, 200], [141.4, 200, 244.9, 282.8], [173.2, 244.9, 300, 346.4], [200, 282.8, 346.4, 400]], 100)\n",
    "\n",
    "# # Architechture\n",
    "# num_comp = 2         # number of principal component analysis\n",
    "# num_inputs = 4\n",
    "# num_layer_node = [num_inputs, num_comp]\n",
    "\n",
    "\n",
    "# # weights initialization \n",
    "# wt = []       # weight initialization\n",
    "# del_wt = []\n",
    "# for j in range(num_layer_node[1]):\n",
    "#     wt.append( [random.random() for i in range(num_layer_node[0])] )\n",
    "#     del_wt.append( np.zeros(num_layer_node[0]) )\n",
    "\n",
    "# for j in range(num_layer_node[1]):\n",
    "#     sum_ = 0\n",
    "#     for i in range(num_layer_node[0]):\n",
    "#         sum_ += wt[j][i]*wt[j][i]\n",
    "#     for i in range(num_layer_node[0]):\n",
    "#         wt[j][i] = wt[j][i]/(sum_**0.5)\n",
    "         \n",
    "# # output i.e. pca initialization\n",
    "# y = np.zeros(num_layer_node[1])\n",
    "\n",
    "\n",
    "# for j in range(num_layer_node[1]):\n",
    "#     print(wt[j])\n",
    "#     sum_ = 0\n",
    "#     for i in range(num_layer_node[0]):\n",
    "#         sum_ += wt[j][i]*wt[j][i]\n",
    "#     print(sum_)"
   ]
  },
  {
   "cell_type": "code",
   "execution_count": 1,
   "metadata": {},
   "outputs": [
    {
     "name": "stdout",
     "output_type": "stream",
     "text": [
      "eigen values (using sklearn)\n",
      "[161.50424226  27.96932246]\n"
     ]
    },
    {
     "name": "stderr",
     "output_type": "stream",
     "text": [
      "/home/lorenzo/anaconda3/lib/python3.7/site-packages/ipykernel_launcher.py:13: RuntimeWarning: covariance is not symmetric positive-semidefinite.\n",
      "  del sys.path[0]\n"
     ]
    }
   ],
   "source": [
    "from sklearn.decomposition import PCA\n",
    "from sklearn.svm import SVC\n",
    "import numpy as np\n",
    "import matplotlib.pyplot as plt\n",
    "import seaborn as sns; sns.set()\n",
    "from numpy import array\n",
    "from numpy import mean\n",
    "from numpy import cov\n",
    "from numpy.linalg import eig\n",
    "\n",
    "rng = np.random.RandomState(0)\n",
    "#data = np.dot(rng.rand(2,2),2*rng.randn(2, 300)+10).T\n",
    "data = np.random.multivariate_normal([0,0], [[64, 100], [100, 81]], 100)\n",
    "M = mean(data.T, axis=1)\n",
    "C = data - M\n",
    "V = cov(C.T)\n",
    "values, vectors = eig(V)\n",
    "print('eigen values (using sklearn)')\n",
    "print(values)\n",
    "# print('eigen vector (using sklearn)')\n",
    "# print(vectors)\n",
    "P = vectors.T.dot(C.T)"
   ]
  },
  {
   "cell_type": "code",
   "execution_count": 2,
   "metadata": {},
   "outputs": [
    {
     "name": "stdout",
     "output_type": "stream",
     "text": [
      "[array([0.81935023, 0.58153753]), array([-0.58246606,  0.81359171])]\n",
      "done\n"
     ]
    }
   ],
   "source": [
    "#############\n",
    "import numpy as np\n",
    "import random\n",
    "from operator import sub, add\n",
    "l=100\n",
    "# Architechture of the Neuron\n",
    "num_comp = 2         # number of principal component analysis\n",
    "num_inputs = 2\n",
    "num_layer_node = [num_inputs, num_comp]\n",
    "\n",
    "# weights initialization \n",
    "wt = []       # weight initialization\n",
    "del_wt = []\n",
    "for j in range(num_layer_node[1]):\n",
    "    wt.append( [random.random() for i in range(num_layer_node[0])] )\n",
    "    del_wt.append( np.zeros(num_layer_node[0]) )\n",
    "\n",
    "for j in range(num_layer_node[1]):       #weightts normalization\n",
    "    sum_ = 0\n",
    "    for i in range(num_layer_node[0]):\n",
    "        sum_ += wt[j][i]*wt[j][i]\n",
    "    for i in range(num_layer_node[0]):\n",
    "        wt[j][i] = wt[j][i]/(sum_**0.5)\n",
    "         \n",
    "# output i.e. pca initialization\n",
    "y = np.zeros(num_layer_node[1])\n",
    "    \n",
    "num_epoch = 15000    # After this many iteration the algorithm will terminate automatically\n",
    "error_limit = 0.001     # If the difference of the errors are less than this the algorithm will terminate\n",
    "max_diff = 1      # max difference of the weights in each iteration\n",
    "alpha = 0.001         # Learning rate\n",
    "e = data.copy()\n",
    "\n",
    "for j in range(num_layer_node[1]):\n",
    "    for s in range(num_epoch):\n",
    "        for k in range(l): \n",
    "            y = np.dot(data[k],wt[j]) \n",
    "\n",
    "            bkup = wt[j].copy()\n",
    "            wt[j] = bkup + alpha*np.dot(y,(e[k] - np.dot(y,bkup)))\n",
    "\n",
    "    #update error after stabilization of last set of weights\n",
    "    for k in range(l): \n",
    "        y = np.dot(data[k],wt[j]) \n",
    "        e[k] = e[k] - y*wt[j]\n",
    "print(wt)\n",
    "print(\"done\")"
   ]
  },
  {
   "cell_type": "code",
   "execution_count": 3,
   "metadata": {},
   "outputs": [
    {
     "data": {
      "image/png": "[encoded data removed]",
      "text/plain": [
       "<Figure size 720x720 with 1 Axes>"
      ]
     },
     "metadata": {
      "needs_background": "light"
     },
     "output_type": "display_data"
    }
   ],
   "source": [
    "plt.figure(figsize=(10,10))\n",
    "import matplotlib.pyplot as plt\n",
    "for i in range(l):\n",
    "    plt.scatter(data[i][0],data[i][1])\n",
    "\n",
    "color = ['red', 'blue']\n",
    "label = ['PCA1', 'PCA2']\n",
    "for i in range(2):\n",
    "    plt.plot([-10*wt[i][0],0*wt[i][0],10*wt[i][0]], [-10*wt[i][1],0*wt[i][1],10*wt[i][1]], color=color[i], label=label[i])\n",
    "plt.xlim(-30, 30)\n",
    "plt.ylim(-30, 30)\n",
    "plt.show()"
   ]
  },
  {
   "cell_type": "code",
   "execution_count": null,
   "metadata": {},
   "outputs": [],
   "source": []
  }
 ],
 "metadata": {
  "kernelspec": {
   "display_name": "Python 3",
   "language": "python",
   "name": "python3"
  },
  "language_info": {
   "codemirror_mode": {
    "name": "ipython",
    "version": 3
   },
   "file_extension": ".py",
   "mimetype": "text/x-python",
   "name": "python",
   "nbconvert_exporter": "python",
   "pygments_lexer": "ipython3",
   "version": "3.7.3"
  }
 },
 "nbformat": 4,
 "nbformat_minor": 4
}
