{
 "cells": [
  {
   "cell_type": "code",
   "execution_count": 4,
   "metadata": {},
   "outputs": [
    {
     "name": "stdout",
     "output_type": "stream",
     "text": [
      "The autoreload extension is already loaded. To reload it, use:\n",
      "  %reload_ext autoreload\n"
     ]
    }
   ],
   "source": [
    "import time\n",
    "import numpy as np\n",
    "import matplotlib.pyplot as plt\n",
    "from neuralnet.fc_net import *\n",
    "from neuralnet.data_utils import get_CIFAR10_data\n",
    "from neuralnet.gradient_check import eval_numerical_gradient\n",
    "from neuralnet.gradient_check import eval_numerical_gradient_array\n",
    "from neuralnet.solver import Solver\n",
    "from neuralnet.layers import relu_forward, relu_backward, svm_loss, softmax_loss\n",
    "\n",
    "%matplotlib inline\n",
    "plt.rcParams['figure.figsize'] = (10.0, 8.0)    # set default size of plots\n",
    "plt.rcParams['image.interpolation'] = 'nearest'\n",
    "plt.rcParams['image.cmap'] = 'gray'\n",
    "%load_ext autoreload\n",
    "%autoreload 2\n",
    "\n",
    "WORKING_DIR = \"/user1/student/mtc/mtc2018/mtc1807/SEM3/NNA/assignment2/\"\n",
    "\n",
    "def rel_error(x, y):\n",
    "    \"\"\" returns relative error \"\"\"\n",
    "    return np.max(np.abs(x - y) / (np.maximum(1e-8, np.abs(x) + np.abs(y))))\n",
    "\n"
   ]
  },
  {
   "cell_type": "markdown",
   "metadata": {},
   "source": [
    "## Getting the data"
   ]
  },
  {
   "cell_type": "code",
   "execution_count": 5,
   "metadata": {},
   "outputs": [
    {
     "name": "stdout",
     "output_type": "stream",
     "text": [
      "X_test:  (1000, 3, 32, 32)\n",
      "y_val:  (1000,)\n",
      "X_train:  (49000, 3, 32, 32)\n",
      "y_train:  (49000,)\n",
      "X_val:  (1000, 3, 32, 32)\n",
      "y_test:  (1000,)\n"
     ]
    }
   ],
   "source": [
    "data = get_CIFAR10_data(dir_path=WORKING_DIR)\n",
    "for k, v in data.items():\n",
    "  print('%s: ' % k, v.shape)"
   ]
  },
  {
   "cell_type": "markdown",
   "metadata": {},
   "source": [
    "## Affine layer : forward"
   ]
  },
  {
   "cell_type": "code",
   "execution_count": 6,
   "metadata": {},
   "outputs": [
    {
     "name": "stdout",
     "output_type": "stream",
     "text": [
      "Testing affine_forward function:\n",
      "difference:  9.7698500479884e-10\n"
     ]
    }
   ],
   "source": [
    "# Test the affine_forward function\n",
    "\n",
    "num_inputs = 2\n",
    "input_shape = (4, 5, 6)\n",
    "output_dim = 3\n",
    "\n",
    "input_size = num_inputs * np.prod(input_shape)\n",
    "weight_size = output_dim * np.prod(input_shape)\n",
    "\n",
    "x = np.linspace(-0.1, 0.5, num=input_size).reshape(num_inputs, *input_shape)\n",
    "w = np.linspace(-0.2, 0.3, num=weight_size).reshape(np.prod(input_shape), output_dim)\n",
    "b = np.linspace(-0.3, 0.1, num=output_dim)\n",
    "\n",
    "out, _ = affine_forward(x, w, b)\n",
    "correct_out = np.array([[ 1.49834967,  1.70660132,  1.91485297],\n",
    "                        [ 3.25553199,  3.5141327,   3.77273342]])\n",
    "\n",
    "\n",
    "print('Testing affine_forward function:')\n",
    "print('difference: ', rel_error(out, correct_out))"
   ]
  },
  {
   "cell_type": "markdown",
   "metadata": {},
   "source": [
    "## Affine layer : backward"
   ]
  },
  {
   "cell_type": "code",
   "execution_count": 7,
   "metadata": {},
   "outputs": [
    {
     "name": "stdout",
     "output_type": "stream",
     "text": [
      "Testing affine_backward function:\n",
      "dx error:  4.3067790291214447e-10\n",
      "dw error:  1.6142091465118907e-10\n",
      "db error:  2.40678128453444e-11\n"
     ]
    }
   ],
   "source": [
    "# Test the affine_backward function\n",
    "\n",
    "x = np.random.randn(10, 2, 3)\n",
    "w = np.random.randn(6, 5)\n",
    "b = np.random.randn(5)\n",
    "dout = np.random.randn(10, 5)\n",
    "\n",
    "dx_num = eval_numerical_gradient_array(lambda x: affine_forward(x, w, b)[0], x, dout)\n",
    "dw_num = eval_numerical_gradient_array(lambda w: affine_forward(x, w, b)[0], w, dout)\n",
    "db_num = eval_numerical_gradient_array(lambda b: affine_forward(x, w, b)[0], b, dout)\n",
    "\n",
    "_, cache = affine_forward(x, w, b)\n",
    "dx, dw, db = affine_backward(dout, cache)\n",
    "\n",
    "\n",
    "print( 'Testing affine_backward function:')\n",
    "print('dx error: ', rel_error(dx_num, dx))\n",
    "print('dw error: ', rel_error(dw_num, dw))\n",
    "print('db error: ', rel_error(db_num, db))"
   ]
  },
  {
   "cell_type": "markdown",
   "metadata": {},
   "source": [
    "## ReLU layer: forward"
   ]
  },
  {
   "cell_type": "code",
   "execution_count": 8,
   "metadata": {},
   "outputs": [
    {
     "name": "stdout",
     "output_type": "stream",
     "text": [
      "Testing relu_forward function:\n",
      "difference:  4.999999798022158e-08\n"
     ]
    }
   ],
   "source": [
    "# Test the relu_forward function\n",
    "\n",
    "x = np.linspace(-0.5, 0.5, num=12).reshape(3, 4)\n",
    "\n",
    "out, _ = relu_forward(x)\n",
    "correct_out = np.array([[ 0.,          0.,          0.,          0.,        ],\n",
    "                        [ 0.,          0.,          0.04545455,  0.13636364,],\n",
    "                        [ 0.22727273,  0.31818182,  0.40909091,  0.5,       ]])\n",
    "\n",
    "\n",
    "print('Testing relu_forward function:')\n",
    "print('difference: ', rel_error(out, correct_out))"
   ]
  },
  {
   "cell_type": "markdown",
   "metadata": {},
   "source": [
    "## ReLU layer: backward"
   ]
  },
  {
   "cell_type": "code",
   "execution_count": 9,
   "metadata": {},
   "outputs": [
    {
     "name": "stdout",
     "output_type": "stream",
     "text": [
      "Testing relu_backward function:\n",
      "dx error:  3.275639206112935e-12\n"
     ]
    }
   ],
   "source": [
    "x = np.random.randn(10, 10)\n",
    "dout = np.random.randn(*x.shape)\n",
    "\n",
    "dx_num = eval_numerical_gradient_array(lambda x: relu_forward(x)[0], x, dout)\n",
    "\n",
    "_, cache = relu_forward(x)\n",
    "dx = relu_backward(dout, cache)\n",
    "\n",
    "# The error should be around 1e-12\n",
    "print('Testing relu_backward function:')\n",
    "print('dx error: ', rel_error(dx_num, dx))"
   ]
  },
  {
   "cell_type": "markdown",
   "metadata": {},
   "source": [
    "## Sandwich layers"
   ]
  },
  {
   "cell_type": "code",
   "execution_count": 10,
   "metadata": {},
   "outputs": [
    {
     "name": "stdout",
     "output_type": "stream",
     "text": [
      "Testing affine_relu_forward:\n",
      "dx error:  1.1573668899822017e-10\n",
      "dw error:  6.224866519082227e-09\n",
      "db error:  2.548005011123889e-11\n"
     ]
    }
   ],
   "source": [
    "from neuralnet.layer_utils import affine_relu_forward, affine_relu_backward\n",
    "\n",
    "x = np.random.randn(2, 3, 4)\n",
    "w = np.random.randn(12, 10)\n",
    "b = np.random.randn(10)\n",
    "dout = np.random.randn(2, 10)\n",
    "\n",
    "out, cache = affine_relu_forward(x, w, b)\n",
    "dx, dw, db = affine_relu_backward(dout, cache)\n",
    "\n",
    "dx_num = eval_numerical_gradient_array(lambda x: affine_relu_forward(x, w, b)[0], x, dout)\n",
    "dw_num = eval_numerical_gradient_array(lambda w: affine_relu_forward(x, w, b)[0], w, dout)\n",
    "db_num = eval_numerical_gradient_array(lambda b: affine_relu_forward(x, w, b)[0], b, dout)\n",
    "\n",
    "print('Testing affine_relu_forward:')\n",
    "print('dx error: ', rel_error(dx_num, dx))\n",
    "print('dw error: ', rel_error(dw_num, dw))\n",
    "print('db error: ', rel_error(db_num, db))"
   ]
  },
  {
   "cell_type": "markdown",
   "metadata": {},
   "source": [
    "## Loss layers: Softmax and SVM"
   ]
  },
  {
   "cell_type": "code",
   "execution_count": 11,
   "metadata": {},
   "outputs": [
    {
     "name": "stdout",
     "output_type": "stream",
     "text": [
      "Testing svm_loss:\n",
      "loss:  8.99944554741149\n",
      "dx error:  8.182894472887002e-10\n",
      "\n",
      "Testing softmax_loss:\n",
      "loss:  2.302530079411838\n",
      "dx error:  9.746376837933184e-09\n"
     ]
    }
   ],
   "source": [
    "num_classes, num_inputs = 10, 50\n",
    "x = 0.001 * np.random.randn(num_inputs, num_classes)\n",
    "y = np.random.randint(num_classes, size=num_inputs)\n",
    "\n",
    "dx_num = eval_numerical_gradient(lambda x: svm_loss(x, y)[0], x, verbose=False)\n",
    "loss, dx = svm_loss(x, y)\n",
    "\n",
    "# Test svm_loss function. Loss should be around 9 and dx error should be 1e-9\n",
    "print('Testing svm_loss:')\n",
    "print('loss: ', loss)\n",
    "print('dx error: ', rel_error(dx_num, dx))\n",
    "\n",
    "dx_num = eval_numerical_gradient(lambda x: softmax_loss(x, y)[0], x, verbose=False)\n",
    "loss, dx = softmax_loss(x, y)\n",
    "\n",
    "# Test softmax_loss function. Loss should be 2.3 and dx error should be 1e-8\n",
    "print('\\nTesting softmax_loss:')\n",
    "print('loss: ', loss)\n",
    "print('dx error: ', rel_error(dx_num, dx))"
   ]
  },
  {
   "cell_type": "markdown",
   "metadata": {},
   "source": [
    "## Initial loss and gradient"
   ]
  },
  {
   "cell_type": "code",
   "execution_count": 12,
   "metadata": {},
   "outputs": [
    {
     "name": "stdout",
     "output_type": "stream",
     "text": [
      "Running check with reg =  0\n",
      "Initial loss:  2.301913548624503\n",
      "W1 relative error: 3.62e-07\n",
      "W2 relative error: 6.08e-06\n",
      "W3 relative error: 2.98e-05\n",
      "W4 relative error: 3.45e-06\n",
      "b1 relative error: 5.50e-08\n",
      "b2 relative error: 1.35e-07\n",
      "b3 relative error: 1.49e-08\n",
      "b4 relative error: 1.03e-10\n",
      "Running check with reg =  3.14\n",
      "Initial loss:  11.690707235044691\n",
      "W1 relative error: 1.87e-08\n",
      "W2 relative error: 4.48e-07\n",
      "W3 relative error: 2.69e-07\n",
      "W4 relative error: 1.20e-07\n",
      "b1 relative error: 1.37e-07\n",
      "b2 relative error: 4.01e-08\n",
      "b3 relative error: 1.40e-08\n",
      "b4 relative error: 2.87e-10\n"
     ]
    }
   ],
   "source": [
    "N, D, H1, H2,H3, C = 2, 15, 20, 30,40, 10\n",
    "X = np.random.randn(N, D)\n",
    "y = np.random.randint(C, size=(N,))\n",
    "\n",
    "for reg in [0, 3.14]:\n",
    "  print('Running check with reg = ', reg)\n",
    "  model = FullyConnectedNet([H1, H2,H3], input_dim=D, num_classes=C,\n",
    "                            reg=reg, weight_scale=5e-2, dtype=np.float64)\n",
    "\n",
    "  loss, grads = model.loss(X, y)\n",
    "  print('Initial loss: ', loss)\n",
    "\n",
    "  for name in sorted(grads):\n",
    "    f = lambda _: model.loss(X, y)[0]\n",
    "    grad_num = eval_numerical_gradient(f, model.params[name], verbose=False, h=1e-5)\n",
    "    print('%s relative error: %.2e' % (name, rel_error(grad_num, grads[name])))"
   ]
  },
  {
   "cell_type": "markdown",
   "metadata": {},
   "source": [
    "## Overfitting FC NET - 3 layered"
   ]
  },
  {
   "cell_type": "code",
   "execution_count": 13,
   "metadata": {},
   "outputs": [
    {
     "name": "stdout",
     "output_type": "stream",
     "text": [
      "(Iteration 1 / 40) loss: 2.287086\n",
      "(Epoch 0 / 20) train acc: 0.220000; val_acc: 0.139000\n",
      "(Epoch 1 / 20) train acc: 0.320000; val_acc: 0.145000\n",
      "(Epoch 2 / 20) train acc: 0.520000; val_acc: 0.163000\n",
      "(Epoch 3 / 20) train acc: 0.460000; val_acc: 0.173000\n",
      "(Epoch 4 / 20) train acc: 0.700000; val_acc: 0.173000\n",
      "(Epoch 5 / 20) train acc: 0.760000; val_acc: 0.175000\n",
      "(Iteration 11 / 40) loss: 1.098815\n",
      "(Epoch 6 / 20) train acc: 0.880000; val_acc: 0.178000\n",
      "(Epoch 7 / 20) train acc: 0.920000; val_acc: 0.211000\n",
      "(Epoch 8 / 20) train acc: 0.900000; val_acc: 0.186000\n",
      "(Epoch 9 / 20) train acc: 0.900000; val_acc: 0.151000\n",
      "(Epoch 10 / 20) train acc: 0.980000; val_acc: 0.196000\n",
      "(Iteration 21 / 40) loss: 0.472653\n",
      "(Epoch 11 / 20) train acc: 1.000000; val_acc: 0.196000\n",
      "(Epoch 12 / 20) train acc: 1.000000; val_acc: 0.193000\n",
      "(Epoch 13 / 20) train acc: 1.000000; val_acc: 0.194000\n",
      "(Epoch 14 / 20) train acc: 1.000000; val_acc: 0.189000\n",
      "(Epoch 15 / 20) train acc: 1.000000; val_acc: 0.190000\n",
      "(Iteration 31 / 40) loss: 0.078961\n",
      "(Epoch 16 / 20) train acc: 1.000000; val_acc: 0.193000\n",
      "(Epoch 17 / 20) train acc: 1.000000; val_acc: 0.195000\n",
      "(Epoch 18 / 20) train acc: 1.000000; val_acc: 0.187000\n",
      "(Epoch 19 / 20) train acc: 1.000000; val_acc: 0.193000\n",
      "(Epoch 20 / 20) train acc: 1.000000; val_acc: 0.193000\n"
     ]
    },
    {
     "data": {
      "image/png": "[encoded data removed]",
      "text/plain": [
       "<Figure size 720x576 with 1 Axes>"
      ]
     },
     "metadata": {
      "needs_background": "light"
     },
     "output_type": "display_data"
    }
   ],
   "source": [
    "# TODO: Use a three-layer Net to overfit 50 training examples.\n",
    "num_train = 50\n",
    "small_data = {\n",
    "  'X_train': data['X_train'][:num_train],\n",
    "  'y_train': data['y_train'][:num_train],\n",
    "  'X_val': data['X_val'],\n",
    "  'y_val': data['y_val'],\n",
    "}\n",
    "\n",
    "weight_scale = 1e-2\n",
    "learning_rate = 1e-2\n",
    "model = FullyConnectedNet([100, 100],\n",
    "              weight_scale=weight_scale, dtype=np.float64)\n",
    "solver = Solver(model, small_data,\n",
    "                print_every=10, num_epochs=20, batch_size=25,\n",
    "                update_rule='sgd',\n",
    "                optim_config={\n",
    "                  'learning_rate': learning_rate,\n",
    "                }\n",
    "         )\n",
    "solver.train()\n",
    "\n",
    "plt.plot(solver.loss_history, 'o')\n",
    "plt.title('Training loss history')\n",
    "plt.xlabel('Iteration')\n",
    "plt.ylabel('Training loss')\n",
    "plt.show()"
   ]
  },
  {
   "cell_type": "markdown",
   "metadata": {},
   "source": [
    "## Overfitting FC NET - 5 layered"
   ]
  },
  {
   "cell_type": "code",
   "execution_count": 14,
   "metadata": {},
   "outputs": [],
   "source": [
    "def run_model(weight_scale,learning_rate):\n",
    "    model = FullyConnectedNet([100, 100,100,100],\n",
    "            weight_scale=weight_scale, dtype=np.float64)\n",
    "    solver = Solver(model, small_data,\n",
    "                print_every=10, num_epochs=20, batch_size=25,\n",
    "                update_rule='sgd',\n",
    "                optim_config={\n",
    "                    'learning_rate': learning_rate,\n",
    "                    }\n",
    "             )\n",
    "    solver.train()\n",
    "    return solver.train_acc_history"
   ]
  },
  {
   "cell_type": "code",
   "execution_count": 19,
   "metadata": {},
   "outputs": [
    {
     "name": "stdout",
     "output_type": "stream",
     "text": [
      "(Iteration 1 / 40) loss: 2.596292\n",
      "(Epoch 0 / 20) train acc: 0.260000; val_acc: 0.125000\n",
      "(Epoch 1 / 20) train acc: 0.300000; val_acc: 0.125000\n",
      "(Epoch 2 / 20) train acc: 0.640000; val_acc: 0.147000\n",
      "(Epoch 3 / 20) train acc: 0.580000; val_acc: 0.127000\n",
      "(Epoch 4 / 20) train acc: 0.800000; val_acc: 0.192000\n",
      "(Epoch 5 / 20) train acc: 0.700000; val_acc: 0.155000\n",
      "(Iteration 11 / 40) loss: 0.966722\n",
      "(Epoch 6 / 20) train acc: 0.640000; val_acc: 0.173000\n",
      "(Epoch 7 / 20) train acc: 0.820000; val_acc: 0.163000\n",
      "(Epoch 8 / 20) train acc: 0.880000; val_acc: 0.158000\n",
      "(Epoch 9 / 20) train acc: 0.940000; val_acc: 0.167000\n",
      "(Epoch 10 / 20) train acc: 0.860000; val_acc: 0.169000\n",
      "(Iteration 21 / 40) loss: 0.844036\n",
      "(Epoch 11 / 20) train acc: 1.000000; val_acc: 0.156000\n",
      "(Epoch 12 / 20) train acc: 1.000000; val_acc: 0.164000\n",
      "(Epoch 13 / 20) train acc: 1.000000; val_acc: 0.176000\n",
      "(Epoch 14 / 20) train acc: 1.000000; val_acc: 0.182000\n",
      "(Epoch 15 / 20) train acc: 1.000000; val_acc: 0.175000\n",
      "(Iteration 31 / 40) loss: 0.056236\n",
      "(Epoch 16 / 20) train acc: 1.000000; val_acc: 0.174000\n",
      "(Epoch 17 / 20) train acc: 1.000000; val_acc: 0.175000\n",
      "(Epoch 18 / 20) train acc: 1.000000; val_acc: 0.173000\n",
      "(Epoch 19 / 20) train acc: 1.000000; val_acc: 0.175000\n",
      "(Epoch 20 / 20) train acc: 1.000000; val_acc: 0.176000\n",
      "Has worked with 0.039598 and 0.039890\n"
     ]
    },
    {
     "data": {
      "image/png": "[encoded data removed]",
      "text/plain": [
       "<Figure size 720x576 with 1 Axes>"
      ]
     },
     "metadata": {
      "needs_background": "light"
     },
     "output_type": "display_data"
    }
   ],
   "source": [
    "# TODO: Use a five-layer Net to overfit 50 training examples.\n",
    "\n",
    "num_train = 50\n",
    "small_data = {\n",
    "  'X_train': data['X_train'][:num_train],\n",
    "  'y_train': data['y_train'][:num_train],\n",
    "  'X_val': data['X_val'],\n",
    "  'y_val': data['y_val'],\n",
    "}\n",
    "\n",
    "not_reach = True\n",
    "# while not_reach:\n",
    "#     weight_scale = 10**(np.random.uniform(-6,-1))\n",
    "#     learning_rate = 10**(np.random.uniform(-4,-1))\n",
    "#     train_acc_hist = run_model(weight_scale,learning_rate)\n",
    "#     if max(train_acc_hist) == 1.0:\n",
    "#         not_reach = False\n",
    "#         lr = learning_rate\n",
    "#         ws = weight_scale\n",
    "# converges for lr = 0.039890 and ws = 0.039598\n",
    "weight_scale = 0.039890 \n",
    "learning_rate = 0.039598\n",
    "train_acc_hist = run_model(weight_scale,learning_rate)\n",
    "if max(train_acc_hist) == 1.0:\n",
    "    not_reach = False\n",
    "    lr = learning_rate\n",
    "    ws = weight_scale\n",
    "\n",
    "print('Has worked with %f and %f'%(lr,ws))\n",
    "plt.plot(train_acc_hist, 'o')\n",
    "plt.title('Training Acc history')\n",
    "plt.xlabel('Iteration')\n",
    "plt.ylabel('Training Acc')\n",
    "plt.show()"
   ]
  },
  {
   "cell_type": "code",
   "execution_count": null,
   "metadata": {},
   "outputs": [],
   "source": []
  }
 ],
 "metadata": {
  "kernelspec": {
   "display_name": "Python 3",
   "language": "python",
   "name": "python3"
  },
  "language_info": {
   "codemirror_mode": {
    "name": "ipython",
    "version": 3
   },
   "file_extension": ".py",
   "mimetype": "text/x-python",
   "name": "python",
   "nbconvert_exporter": "python",
   "pygments_lexer": "ipython3",
   "version": "3.7.3"
  }
 },
 "nbformat": 4,
 "nbformat_minor": 4
}
