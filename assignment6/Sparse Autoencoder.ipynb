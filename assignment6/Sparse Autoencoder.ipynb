{
 "cells": [
  {
   "cell_type": "markdown",
   "metadata": {
    "tags": [
     "pdf-title"
    ]
   },
   "source": [
    "# Sparse Auto Encoder"
   ]
  },
  {
   "cell_type": "code",
   "execution_count": 1,
   "metadata": {
    "tags": [
     "pdf-ignore"
    ]
   },
   "outputs": [],
   "source": [
    "# As usual, a bit of setup\n",
    "from __future__ import print_function\n",
    "import time\n",
    "import numpy as np\n",
    "import matplotlib.pyplot as plt\n",
    "from neuralnet.classifiers.ae import *\n",
    "from neuralnet.data_utils import get_mnist_dataset\n",
    "from neuralnet.solver import Solver\n",
    "\n",
    "\n",
    "%matplotlib inline\n",
    "plt.rcParams['figure.figsize'] = (10.0, 8.0) # set default size of plots\n",
    "plt.rcParams['image.interpolation'] = 'nearest'\n",
    "plt.rcParams['image.cmap'] = 'gray'\n",
    "\n",
    "# # for auto-reloading external modules\n",
    "# # see http://stackoverflow.com/questions/1907993/autoreload-of-modules-in-ipython\n",
    "# %load_ext autoreload\n",
    "# %autoreload 2\n",
    "\n",
    "def rel_error(x, y):\n",
    "  \"\"\" returns relative error \"\"\"\n",
    "  return np.max(np.abs(x - y) / (np.maximum(1e-8, np.abs(x) + np.abs(y))))"
   ]
  },
  {
   "cell_type": "code",
   "execution_count": 3,
   "metadata": {
    "tags": [
     "pdf-ignore"
    ]
   },
   "outputs": [],
   "source": [
    "(x_train, y_train), (x_test, y_test) = get_mnist_dataset()\n",
    "\n",
    "# x_train -= 127\n",
    "# x_train = x_test / 255\n",
    "# x_test -= 127\n",
    "# x_test = x_test / 255\n",
    "\n",
    "x_train[x_train < 127] = 0\n",
    "x_train[x_train >= 127] = 1\n",
    "\n",
    "x_test[x_test < 127] = 0\n",
    "x_test[x_test >= 127] = 1\n",
    "\n",
    "\n",
    "data = {\n",
    "  'X_train': x_train,\n",
    "  'y_train': x_train,\n",
    "  'X_val': x_test,\n",
    "  'y_val': x_test,\n",
    "}"
   ]
  },
  {
   "cell_type": "code",
   "execution_count": 4,
   "metadata": {},
   "outputs": [
    {
     "name": "stdout",
     "output_type": "stream",
     "text": [
      "(Iteration 1 / 6000) loss: 6177.798811\n",
      "(Epoch 0 / 50) train dis-simmilarity: 1013.370718; val dis-simmilarity: 10217.926963\n",
      "(Iteration 51 / 6000) loss: 78.867117\n",
      "(Iteration 101 / 6000) loss: 51.138222\n",
      "(Epoch 1 / 50) train dis-simmilarity: 742.721435; val dis-simmilarity: 7430.605354\n",
      "(Iteration 151 / 6000) loss: 45.114061\n",
      "(Iteration 201 / 6000) loss: 40.667935\n",
      "(Epoch 2 / 50) train dis-simmilarity: 627.537698; val dis-simmilarity: 6253.324708\n",
      "(Iteration 251 / 6000) loss: 24.381486\n",
      "(Iteration 301 / 6000) loss: 21.023606\n",
      "(Iteration 351 / 6000) loss: 14.737392\n",
      "(Epoch 3 / 50) train dis-simmilarity: 567.974247; val dis-simmilarity: 5657.614293\n",
      "(Iteration 401 / 6000) loss: 10.152477\n",
      "(Iteration 451 / 6000) loss: 7.118901\n",
      "(Epoch 4 / 50) train dis-simmilarity: 533.853095; val dis-simmilarity: 5275.265285\n",
      "(Iteration 501 / 6000) loss: 6.640845\n",
      "(Iteration 551 / 6000) loss: 8.671901\n",
      "(Epoch 5 / 50) train dis-simmilarity: 499.707111; val dis-simmilarity: 4977.949211\n",
      "(Iteration 601 / 6000) loss: 5.009867\n",
      "(Iteration 651 / 6000) loss: 5.195942\n",
      "(Iteration 701 / 6000) loss: 5.000049\n",
      "(Epoch 6 / 50) train dis-simmilarity: 479.849815; val dis-simmilarity: 4761.522124\n",
      "(Iteration 751 / 6000) loss: 4.209379\n",
      "(Iteration 801 / 6000) loss: 4.836849\n",
      "(Epoch 7 / 50) train dis-simmilarity: 462.526302; val dis-simmilarity: 4605.916642\n",
      "(Iteration 851 / 6000) loss: 3.392956\n",
      "(Iteration 901 / 6000) loss: 3.031720\n",
      "(Iteration 951 / 6000) loss: 3.465251\n",
      "(Epoch 8 / 50) train dis-simmilarity: 449.786695; val dis-simmilarity: 4476.006060\n",
      "(Iteration 1001 / 6000) loss: 2.504442\n",
      "(Iteration 1051 / 6000) loss: 3.154751\n",
      "(Epoch 9 / 50) train dis-simmilarity: 439.209665; val dis-simmilarity: 4365.704989\n",
      "(Iteration 1101 / 6000) loss: 4.264533\n",
      "(Iteration 1151 / 6000) loss: 2.249918\n",
      "(Epoch 10 / 50) train dis-simmilarity: 426.038022; val dis-simmilarity: 4274.749757\n",
      "(Iteration 1201 / 6000) loss: 2.174965\n",
      "(Iteration 1251 / 6000) loss: 2.048254\n",
      "(Iteration 1301 / 6000) loss: 1.665512\n",
      "(Epoch 11 / 50) train dis-simmilarity: 420.654994; val dis-simmilarity: 4203.421831\n",
      "(Iteration 1351 / 6000) loss: 2.010579\n",
      "(Iteration 1401 / 6000) loss: 1.587771\n",
      "(Epoch 12 / 50) train dis-simmilarity: 413.936931; val dis-simmilarity: 4143.418907\n",
      "(Iteration 1451 / 6000) loss: 1.666407\n",
      "(Iteration 1501 / 6000) loss: 1.689666\n",
      "(Iteration 1551 / 6000) loss: 1.918415\n",
      "(Epoch 13 / 50) train dis-simmilarity: 411.372775; val dis-simmilarity: 4083.456532\n",
      "(Iteration 1601 / 6000) loss: 2.813155\n",
      "(Iteration 1651 / 6000) loss: 1.615800\n",
      "(Epoch 14 / 50) train dis-simmilarity: 404.966015; val dis-simmilarity: 4035.724965\n",
      "(Iteration 1701 / 6000) loss: 1.488185\n",
      "(Iteration 1751 / 6000) loss: 1.619307\n",
      "(Epoch 15 / 50) train dis-simmilarity: 399.114214; val dis-simmilarity: 3989.663040\n",
      "(Iteration 1801 / 6000) loss: 2.028798\n",
      "(Iteration 1851 / 6000) loss: 1.328110\n",
      "(Iteration 1901 / 6000) loss: 1.398649\n",
      "(Epoch 16 / 50) train dis-simmilarity: 394.683125; val dis-simmilarity: 3943.486167\n",
      "(Iteration 1951 / 6000) loss: 1.719185\n",
      "(Iteration 2001 / 6000) loss: 1.254282\n",
      "(Epoch 17 / 50) train dis-simmilarity: 389.697733; val dis-simmilarity: 3906.811957\n",
      "(Iteration 2051 / 6000) loss: 1.143618\n",
      "(Iteration 2101 / 6000) loss: 1.564763\n",
      "(Iteration 2151 / 6000) loss: 1.630905\n",
      "(Epoch 18 / 50) train dis-simmilarity: 386.071292; val dis-simmilarity: 3871.096144\n",
      "(Iteration 2201 / 6000) loss: 1.279094\n",
      "(Iteration 2251 / 6000) loss: 1.530800\n",
      "(Epoch 19 / 50) train dis-simmilarity: 389.808226; val dis-simmilarity: 3839.063643\n",
      "(Iteration 2301 / 6000) loss: 1.399526\n",
      "(Iteration 2351 / 6000) loss: 1.357543\n",
      "(Epoch 20 / 50) train dis-simmilarity: 382.903041; val dis-simmilarity: 3810.894418\n",
      "(Iteration 2401 / 6000) loss: 1.250007\n",
      "(Iteration 2451 / 6000) loss: 1.448262\n",
      "(Iteration 2501 / 6000) loss: 1.180212\n",
      "(Epoch 21 / 50) train dis-simmilarity: 380.348344; val dis-simmilarity: 3787.480736\n",
      "(Iteration 2551 / 6000) loss: 1.395923\n",
      "(Iteration 2601 / 6000) loss: 1.108168\n",
      "(Epoch 22 / 50) train dis-simmilarity: 375.012175; val dis-simmilarity: 3764.423546\n",
      "(Iteration 2651 / 6000) loss: 1.357608\n",
      "(Iteration 2701 / 6000) loss: 1.090695\n",
      "(Iteration 2751 / 6000) loss: 1.308691\n",
      "(Epoch 23 / 50) train dis-simmilarity: 372.279620; val dis-simmilarity: 3741.459328\n",
      "(Iteration 2801 / 6000) loss: 1.249417\n",
      "(Iteration 2851 / 6000) loss: 1.235761\n",
      "(Epoch 24 / 50) train dis-simmilarity: 370.215150; val dis-simmilarity: 3721.900731\n",
      "(Iteration 2901 / 6000) loss: 1.134021\n",
      "(Iteration 2951 / 6000) loss: 1.176180\n",
      "(Epoch 25 / 50) train dis-simmilarity: 373.395002; val dis-simmilarity: 3703.151641\n",
      "(Iteration 3001 / 6000) loss: 1.134862\n",
      "(Iteration 3051 / 6000) loss: 1.052738\n",
      "(Iteration 3101 / 6000) loss: 1.112453\n",
      "(Epoch 26 / 50) train dis-simmilarity: 372.661275; val dis-simmilarity: 3686.466133\n",
      "(Iteration 3151 / 6000) loss: 1.091345\n",
      "(Iteration 3201 / 6000) loss: 1.288273\n",
      "(Epoch 27 / 50) train dis-simmilarity: 367.965487; val dis-simmilarity: 3668.094821\n",
      "(Iteration 3251 / 6000) loss: 1.083760\n",
      "(Iteration 3301 / 6000) loss: 0.885718\n",
      "(Iteration 3351 / 6000) loss: 0.996177\n",
      "(Epoch 28 / 50) train dis-simmilarity: 368.801396; val dis-simmilarity: 3654.495471\n",
      "(Iteration 3401 / 6000) loss: 0.959325\n",
      "(Iteration 3451 / 6000) loss: 1.266820\n",
      "(Epoch 29 / 50) train dis-simmilarity: 363.012738; val dis-simmilarity: 3639.307767\n",
      "(Iteration 3501 / 6000) loss: 1.175841\n",
      "(Iteration 3551 / 6000) loss: 0.919705\n",
      "(Epoch 30 / 50) train dis-simmilarity: 364.150727; val dis-simmilarity: 3623.702375\n",
      "(Iteration 3601 / 6000) loss: 1.054980\n",
      "(Iteration 3651 / 6000) loss: 0.893377\n",
      "(Iteration 3701 / 6000) loss: 1.154337\n",
      "(Epoch 31 / 50) train dis-simmilarity: 361.776870; val dis-simmilarity: 3610.964680\n",
      "(Iteration 3751 / 6000) loss: 0.782739\n",
      "(Iteration 3801 / 6000) loss: 0.920138\n",
      "(Epoch 32 / 50) train dis-simmilarity: 360.136536; val dis-simmilarity: 3598.634768\n",
      "(Iteration 3851 / 6000) loss: 0.868811\n",
      "(Iteration 3901 / 6000) loss: 1.001150\n",
      "(Iteration 3951 / 6000) loss: 0.953550\n",
      "(Epoch 33 / 50) train dis-simmilarity: 362.049495; val dis-simmilarity: 3586.070082\n",
      "(Iteration 4001 / 6000) loss: 0.859861\n",
      "(Iteration 4051 / 6000) loss: 0.797114\n",
      "(Epoch 34 / 50) train dis-simmilarity: 358.572796; val dis-simmilarity: 3573.823534\n",
      "(Iteration 4101 / 6000) loss: 0.844869\n",
      "(Iteration 4151 / 6000) loss: 0.902037\n",
      "(Epoch 35 / 50) train dis-simmilarity: 357.511280; val dis-simmilarity: 3561.478758\n",
      "(Iteration 4201 / 6000) loss: 0.769257\n",
      "(Iteration 4251 / 6000) loss: 0.819688\n",
      "(Iteration 4301 / 6000) loss: 0.833816\n",
      "(Epoch 36 / 50) train dis-simmilarity: 356.480602; val dis-simmilarity: 3552.785776\n",
      "(Iteration 4351 / 6000) loss: 0.800852\n",
      "(Iteration 4401 / 6000) loss: 0.945068\n",
      "(Epoch 37 / 50) train dis-simmilarity: 353.440503; val dis-simmilarity: 3543.160517\n",
      "(Iteration 4451 / 6000) loss: 0.684432\n",
      "(Iteration 4501 / 6000) loss: 0.773557\n",
      "(Iteration 4551 / 6000) loss: 0.667623\n",
      "(Epoch 38 / 50) train dis-simmilarity: 353.145972; val dis-simmilarity: 3533.384636\n",
      "(Iteration 4601 / 6000) loss: 0.829423\n",
      "(Iteration 4651 / 6000) loss: 0.628764\n",
      "(Epoch 39 / 50) train dis-simmilarity: 349.533151; val dis-simmilarity: 3523.792700\n",
      "(Iteration 4701 / 6000) loss: 0.851603\n",
      "(Iteration 4751 / 6000) loss: 0.800887\n",
      "(Epoch 40 / 50) train dis-simmilarity: 350.364442; val dis-simmilarity: 3515.907327\n",
      "(Iteration 4801 / 6000) loss: 0.814435\n",
      "(Iteration 4851 / 6000) loss: 0.762946\n",
      "(Iteration 4901 / 6000) loss: 0.790770\n",
      "(Epoch 41 / 50) train dis-simmilarity: 352.688405; val dis-simmilarity: 3507.028697\n",
      "(Iteration 4951 / 6000) loss: 0.883569\n",
      "(Iteration 5001 / 6000) loss: 0.705317\n",
      "(Epoch 42 / 50) train dis-simmilarity: 349.710744; val dis-simmilarity: 3499.088359\n",
      "(Iteration 5051 / 6000) loss: 0.936848\n",
      "(Iteration 5101 / 6000) loss: 0.838278\n",
      "(Iteration 5151 / 6000) loss: 0.695411\n",
      "(Epoch 43 / 50) train dis-simmilarity: 348.582706; val dis-simmilarity: 3492.089190\n",
      "(Iteration 5201 / 6000) loss: 0.852892\n",
      "(Iteration 5251 / 6000) loss: 0.747878\n",
      "(Epoch 44 / 50) train dis-simmilarity: 349.606257; val dis-simmilarity: 3486.012354\n",
      "(Iteration 5301 / 6000) loss: 0.637293\n",
      "(Iteration 5351 / 6000) loss: 0.772702\n",
      "(Epoch 45 / 50) train dis-simmilarity: 353.072321; val dis-simmilarity: 3478.284791\n",
      "(Iteration 5401 / 6000) loss: 0.837873\n",
      "(Iteration 5451 / 6000) loss: 0.718730\n",
      "(Iteration 5501 / 6000) loss: 0.725207\n",
      "(Epoch 46 / 50) train dis-simmilarity: 345.308390; val dis-simmilarity: 3471.163516\n",
      "(Iteration 5551 / 6000) loss: 0.758605\n",
      "(Iteration 5601 / 6000) loss: 0.764478\n",
      "(Epoch 47 / 50) train dis-simmilarity: 346.909390; val dis-simmilarity: 3465.965683\n",
      "(Iteration 5651 / 6000) loss: 0.759101\n",
      "(Iteration 5701 / 6000) loss: 0.828406\n",
      "(Iteration 5751 / 6000) loss: 0.747207\n",
      "(Epoch 48 / 50) train dis-simmilarity: 344.428967; val dis-simmilarity: 3459.376889\n",
      "(Iteration 5801 / 6000) loss: 0.726936\n",
      "(Iteration 5851 / 6000) loss: 0.688322\n",
      "(Epoch 49 / 50) train dis-simmilarity: 346.344095; val dis-simmilarity: 3454.151785\n",
      "(Iteration 5901 / 6000) loss: 0.720186\n",
      "(Iteration 5951 / 6000) loss: 0.783697\n",
      "(Epoch 50 / 50) train dis-simmilarity: 344.970826; val dis-simmilarity: 3448.947528\n"
     ]
    },
    {
     "data": {
      "image/png": "[encoded data removed]",
      "text/plain": [
       "<Figure size 432x288 with 1 Axes>"
      ]
     },
     "metadata": {
      "needs_background": "light"
     },
     "output_type": "display_data"
    }
   ],
   "source": [
    "weight_scale = 1e-2  # Experiment with this!\n",
    "learning_rate = 9e-4  # Experiment with this!\n",
    "reg = 1e-4\n",
    "model = AutoEncoder(hidden_dims=[512, 256, 512], reg=reg, weight_scale=weight_scale)\n",
    "\n",
    "solver = Solver(\n",
    "                model,\n",
    "                data,\n",
    "                print_every=50, num_epochs=50, batch_size=500,\n",
    "                update_rule='adam',\n",
    "                optim_config={\n",
    "                  'learning_rate': learning_rate,\n",
    "                },\n",
    "                lr_decay = 0.95\n",
    "         )\n",
    "solver.train()\n",
    "\n",
    "plt.plot(solver.loss_history, 'o')\n",
    "plt.title('Training loss history')\n",
    "plt.xlabel('Iteration')\n",
    "plt.ylabel('Training loss')\n",
    "plt.show()"
   ]
  },
  {
   "cell_type": "code",
   "execution_count": 5,
   "metadata": {},
   "outputs": [
    {
     "data": {
      "image/png": "[encoded data removed]",
      "text/plain": [
       "<Figure size 432x288 with 1 Axes>"
      ]
     },
     "metadata": {
      "needs_background": "light"
     },
     "output_type": "display_data"
    }
   ],
   "source": [
    "plt.subplot(2, 1, 2)\n",
    "plt.plot(solver.train_acc_history, '-o')\n",
    "plt.plot(solver.val_acc_history, '-o')\n",
    "plt.legend(['train', 'val'], loc='upper left')\n",
    "plt.xlabel('epoch')\n",
    "plt.ylabel('dissimilarity')\n",
    "plt.show()"
   ]
  },
  {
   "cell_type": "code",
   "execution_count": null,
   "metadata": {},
   "outputs": [],
   "source": []
  }
 ],
 "metadata": {
  "kernelspec": {
   "display_name": "Python 3",
   "language": "python",
   "name": "python3"
  },
  "language_info": {
   "codemirror_mode": {
    "name": "ipython",
    "version": 3
   },
   "file_extension": ".py",
   "mimetype": "text/x-python",
   "name": "python",
   "nbconvert_exporter": "python",
   "pygments_lexer": "ipython3",
   "version": "3.7.3"
  }
 },
 "nbformat": 4,
 "nbformat_minor": 4
}
